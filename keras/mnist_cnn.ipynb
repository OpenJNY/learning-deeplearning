{
 "cells": [
  {
   "cell_type": "code",
   "execution_count": 1,
   "metadata": {},
   "outputs": [
    {
     "name": "stderr",
     "output_type": "stream",
     "text": [
      "Using TensorFlow backend.\n"
     ]
    }
   ],
   "source": [
    "# import keras from tensorflow.keras\n",
    "\n",
    "import numpy as np\n",
    "\n",
    "import tensorflow as tf\n",
    "from keras.datasets import mnist\n",
    "from keras.models import Sequential\n",
    "from keras.layers import Dense, Dropout, Activation, Flatten\n",
    "from keras.layers import Conv2D, MaxPooling2D\n",
    "from keras.utils import np_utils\n",
    "from keras import backend as K\n",
    "\n",
    "from sklearn.model_selection import train_test_split\n",
    "\n",
    "import matplotlib.pyplot as plt\n",
    "\n",
    "%matplotlib inline"
   ]
  },
  {
   "cell_type": "code",
   "execution_count": 2,
   "metadata": {},
   "outputs": [
    {
     "name": "stdout",
     "output_type": "stream",
     "text": [
      "channels_last\n"
     ]
    }
   ],
   "source": [
    "# 事前にシャッフルされた MNIST のデータ\n",
    "# 各データ点は 28 x 28 次元の [0, 255] を取る整数)\n",
    "(X_train, y_train), (X_test, y_test) = mnist.load_data()\n",
    "\n",
    "img_rows, img_cols = 28, 28\n",
    "\n",
    "if K.image_data_format() == 'channels_first':\n",
    "    X_train = X_train.reshape(X_train.shape[0], 1, img_rows, img_cols)\n",
    "    X_test = X_test.reshape(X_test.shape[0], 1, img_rows, img_cols)\n",
    "else:\n",
    "    X_train = X_train.reshape(X_train.shape[0], img_rows, img_cols, 1)\n",
    "    X_test = X_test.reshape(X_test.shape[0], img_rows, img_cols, 1)\n",
    "\n",
    "input_shape = X_train.shape[1:]\n",
    "\n",
    "X_train = X_train.astype('float32')\n",
    "X_test = X_test.astype('float32')\n",
    "X_train /= 255\n",
    "X_test /= 255\n",
    "\n",
    "print(K.image_data_format())"
   ]
  },
  {
   "cell_type": "code",
   "execution_count": 3,
   "metadata": {},
   "outputs": [],
   "source": [
    "n_classes = np.unique(y_test).size\n",
    "y_train = np_utils.to_categorical(y_train, n_classes)\n",
    "y_test = np_utils.to_categorical(y_test, n_classes)"
   ]
  },
  {
   "cell_type": "code",
   "execution_count": 4,
   "metadata": {},
   "outputs": [
    {
     "name": "stdout",
     "output_type": "stream",
     "text": [
      "  % Total    % Received % Xferd  Average Speed   Time    Time     Time  Current\n",
      "                                 Dload  Upload   Total   Spent    Left  Speed\n",
      "100 14804  100 14804    0     0  69378      0 --:--:-- --:--:-- --:--:-- 69502\n",
      "  % Total    % Received % Xferd  Average Speed   Time    Time     Time  Current\n",
      "                                 Dload  Upload   Total   Spent    Left  Speed\n",
      "100 16564  100 16564    0     0  99144      0 --:--:-- --:--:-- --:--:-- 99783\n"
     ]
    }
   ],
   "source": [
    "!curl \"https://i.stack.imgur.com/49cdt.png\" -o \"images/convolution_2d.png\"\n",
    "!curl \"https://i.stack.imgur.com/IvDQP.png\" -o \"images/convolution_3d.png\""
   ]
  },
  {
   "cell_type": "markdown",
   "metadata": {},
   "source": [
    "## ConvXD\n",
    "\n",
    "* `X`の部分には 1,2,3 が入るが，これは出力の次元を表している．\n",
    "\n",
    "![２次元](./images/convolution_2d.png)\n",
    "![２次元](./images/convolution_3d.png)\n",
    "\n",
    "#### パラメータ\n",
    "\n",
    "`filters`\n",
    "* 畳み込みによって作られるレイヤーの数\n",
    "* $2^n$ が多いらしい\n",
    "\n",
    "`kernel_size`\n",
    "* 窓関数のサイズ\n",
    "* $N=2$ のときは，kernelは2次元のタプル/リスト `(k, k)` で表される．また，正方形のカネールの場合は1辺の長さだけ指定しても良い．\n",
    "* $N=3$ のときは，kernelは3次元のタプル/リスト `(k, k, d)` で表される．\n",
    "\n",
    "`activation`\n",
    "* 生成されたレイヤの各ピクセルにかけられる活性化関数"
   ]
  },
  {
   "cell_type": "code",
   "execution_count": 5,
   "metadata": {},
   "outputs": [],
   "source": [
    "model = Sequential()\n",
    "\n",
    "model.add(Conv2D(filters=32, kernel_size=(3, 3), activation='relu', input_shape=input_shape))\n",
    "model.add(Conv2D(64, (3, 3), activation='relu'))\n",
    "\n",
    "model.add(MaxPooling2D(pool_size=(2, 2)))\n",
    "model.add(Dropout(0.25))\n",
    "model.add(Flatten())\n",
    "model.add(Dense(128, activation='relu'))\n",
    "model.add(Dropout(0.5))\n",
    "\n",
    "model.add(Dense(n_classes, activation='softmax'))"
   ]
  },
  {
   "cell_type": "code",
   "execution_count": 6,
   "metadata": {},
   "outputs": [],
   "source": [
    "from keras.optimizers import Adadelta\n",
    "\n",
    "model.compile(loss='categorical_crossentropy',\n",
    "             optimizer=Adadelta(),\n",
    "             metrics=['accuracy'])"
   ]
  },
  {
   "cell_type": "code",
   "execution_count": 7,
   "metadata": {},
   "outputs": [
    {
     "name": "stdout",
     "output_type": "stream",
     "text": [
      "Train on 42000 samples, validate on 18000 samples\n",
      "Epoch 1/20\n",
      "42000/42000 [==============================] - 10s 233us/step - loss: 0.3212 - acc: 0.9023 - val_loss: 0.0836 - val_acc: 0.9751\n",
      "Epoch 2/20\n",
      "42000/42000 [==============================] - 4s 88us/step - loss: 0.1033 - acc: 0.9694 - val_loss: 0.0596 - val_acc: 0.9822\n",
      "Epoch 3/20\n",
      "42000/42000 [==============================] - 4s 89us/step - loss: 0.0757 - acc: 0.9774 - val_loss: 0.0578 - val_acc: 0.9831\n",
      "Epoch 4/20\n",
      "42000/42000 [==============================] - 4s 90us/step - loss: 0.0597 - acc: 0.9819 - val_loss: 0.0544 - val_acc: 0.9843\n",
      "Epoch 5/20\n",
      "42000/42000 [==============================] - 4s 90us/step - loss: 0.0506 - acc: 0.9846 - val_loss: 0.0516 - val_acc: 0.9852\n",
      "Epoch 6/20\n",
      "42000/42000 [==============================] - 4s 92us/step - loss: 0.0469 - acc: 0.9863 - val_loss: 0.0444 - val_acc: 0.9866\n",
      "Epoch 7/20\n",
      "42000/42000 [==============================] - 4s 94us/step - loss: 0.0415 - acc: 0.9871 - val_loss: 0.0427 - val_acc: 0.9871\n",
      "Epoch 8/20\n",
      "42000/42000 [==============================] - 4s 92us/step - loss: 0.0361 - acc: 0.9880 - val_loss: 0.0421 - val_acc: 0.9879\n",
      "Epoch 9/20\n",
      "42000/42000 [==============================] - 4s 89us/step - loss: 0.0307 - acc: 0.9901 - val_loss: 0.0411 - val_acc: 0.9883\n",
      "Epoch 10/20\n",
      "42000/42000 [==============================] - 4s 93us/step - loss: 0.0304 - acc: 0.9903 - val_loss: 0.0409 - val_acc: 0.9887\n",
      "Epoch 11/20\n",
      "42000/42000 [==============================] - 4s 93us/step - loss: 0.0287 - acc: 0.9910 - val_loss: 0.0401 - val_acc: 0.9894\n",
      "Epoch 12/20\n",
      "42000/42000 [==============================] - 4s 89us/step - loss: 0.0261 - acc: 0.9918 - val_loss: 0.0387 - val_acc: 0.9896\n",
      "Epoch 13/20\n",
      "42000/42000 [==============================] - 4s 91us/step - loss: 0.0248 - acc: 0.9921 - val_loss: 0.0424 - val_acc: 0.9901\n",
      "Epoch 14/20\n",
      "42000/42000 [==============================] - 4s 90us/step - loss: 0.0206 - acc: 0.9930 - val_loss: 0.0424 - val_acc: 0.9892\n",
      "Epoch 15/20\n",
      "42000/42000 [==============================] - 4s 92us/step - loss: 0.0216 - acc: 0.9926 - val_loss: 0.0434 - val_acc: 0.9892\n",
      "Epoch 16/20\n",
      "42000/42000 [==============================] - 4s 91us/step - loss: 0.0202 - acc: 0.9933 - val_loss: 0.0409 - val_acc: 0.9896\n",
      "Epoch 17/20\n",
      "42000/42000 [==============================] - 4s 93us/step - loss: 0.0202 - acc: 0.9932 - val_loss: 0.0426 - val_acc: 0.9899\n",
      "Epoch 18/20\n",
      "42000/42000 [==============================] - 4s 91us/step - loss: 0.0178 - acc: 0.9941 - val_loss: 0.0388 - val_acc: 0.9901\n",
      "Epoch 19/20\n",
      "42000/42000 [==============================] - 4s 91us/step - loss: 0.0179 - acc: 0.9938 - val_loss: 0.0435 - val_acc: 0.9896\n",
      "Epoch 20/20\n",
      "42000/42000 [==============================] - 4s 89us/step - loss: 0.0165 - acc: 0.9948 - val_loss: 0.0435 - val_acc: 0.9892\n"
     ]
    }
   ],
   "source": [
    "batch_size = 128\n",
    "epochs = 20\n",
    "\n",
    "history = model.fit(X_train, y_train,\n",
    "          batch_size=batch_size,\n",
    "          epochs=epochs,\n",
    "          verbose=1,\n",
    "          validation_split=.3)"
   ]
  },
  {
   "cell_type": "code",
   "execution_count": 8,
   "metadata": {},
   "outputs": [
    {
     "name": "stdout",
     "output_type": "stream",
     "text": [
      "10000/10000 [==============================] - 1s 93us/step\n"
     ]
    }
   ],
   "source": [
    "score = model.evaluate(X_test, y_test, verbose=1)"
   ]
  },
  {
   "cell_type": "code",
   "execution_count": 9,
   "metadata": {},
   "outputs": [
    {
     "name": "stdout",
     "output_type": "stream",
     "text": [
      "Test loss: 0.03446844833623063\n",
      "Test accuracy: 99.03\n"
     ]
    }
   ],
   "source": [
    "print('Test loss:', score[0])\n",
    "print('Test accuracy:', score[1] * 100)"
   ]
  },
  {
   "cell_type": "code",
   "execution_count": 27,
   "metadata": {},
   "outputs": [
    {
     "data": {
      "image/png": "[encoded data removed]",
      "text/plain": [
       "<matplotlib.figure.Figure at 0x7f06dc735470>"
      ]
     },
     "metadata": {},
     "output_type": "display_data"
    }
   ],
   "source": [
    "def plot_history(history):\n",
    "    fig = plt.figure(figsize=(12,4))\n",
    "    \n",
    "    ax = fig.add_subplot(1,2,1)\n",
    "    ax.plot(history.history['acc'], label='acc')\n",
    "    ax.plot(history.history['val_acc'], label='validation acc')\n",
    "    ax.set_title('model accuracy')\n",
    "    ax.set_xlabel('epoch')\n",
    "    ax.set_xticks(np.arange(0, epochs))\n",
    "    ax.set_ylabel('accuracy')\n",
    "    ax.legend()\n",
    "\n",
    "    ax = fig.add_subplot(1,2,2)\n",
    "    ax.plot(history.history['loss'], label='loss')\n",
    "    ax.plot(history.history['val_loss'], label='validation loss')\n",
    "    ax.set_title('model loss')\n",
    "    ax.set_xlabel('epoch')\n",
    "    ax.set_xticks(np.arange(0, epochs))\n",
    "    ax.set_ylabel('loss')\n",
    "    ax.legend()\n",
    "    plt.show()\n",
    "\n",
    "plot_history(history)"
   ]
  },
  {
   "cell_type": "code",
   "execution_count": null,
   "metadata": {},
   "outputs": [],
   "source": []
  }
 ],
 "metadata": {
  "kernelspec": {
   "display_name": "Python 3",
   "language": "python",
   "name": "python3"
  },
  "language_info": {
   "codemirror_mode": {
    "name": "ipython",
    "version": 3
   },
   "file_extension": ".py",
   "mimetype": "text/x-python",
   "name": "python",
   "nbconvert_exporter": "python",
   "pygments_lexer": "ipython3",
   "version": "3.6.3"
  }
 },
 "nbformat": 4,
 "nbformat_minor": 2
}
