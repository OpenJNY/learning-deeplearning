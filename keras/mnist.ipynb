{
 "cells": [
  {
   "cell_type": "code",
   "execution_count": 20,
   "metadata": {},
   "outputs": [],
   "source": [
    "# import keras\n",
    "import tensorflow as tf\n",
    "from tensorflow.python import keras\n",
    "from keras.datasets import mnist\n",
    "from keras.models import Sequential\n",
    "from keras.layers import Dense, Dropout\n",
    "from keras.optimizers import RMSprop, Adam\n",
    "\n",
    "from sklearn.model_selection import train_test_split\n",
    "\n",
    "import numpy as np\n",
    "import matplotlib.pyplot as plt\n",
    "\n",
    "%matplotlib inline"
   ]
  },
  {
   "cell_type": "code",
   "execution_count": 2,
   "metadata": {},
   "outputs": [],
   "source": [
    "# the data, shuffled and split between train and test sets\n",
    "(X_train, y_train), (X_test, y_test) = mnist.load_data()\n",
    "X = np.r_[X_train, X_test]\n",
    "y = np.r_[y_train, y_test]"
   ]
  },
  {
   "cell_type": "code",
   "execution_count": 3,
   "metadata": {},
   "outputs": [],
   "source": [
    "# one-hot encoding\n",
    "n_classes = len(np.unique(y))\n",
    "y = keras.utils.to_categorical(y, n_classes)"
   ]
  },
  {
   "cell_type": "code",
   "execution_count": 4,
   "metadata": {},
   "outputs": [],
   "source": [
    "n_samples = X.shape[0]\n",
    "n_features = 784\n",
    "\n",
    "# reshape\n",
    "X = X.reshape(n_samples, n_features)\n",
    "\n",
    "# noramlize\n",
    "X = X.astype('float32')\n",
    "X /= 255"
   ]
  },
  {
   "cell_type": "code",
   "execution_count": 5,
   "metadata": {},
   "outputs": [
    {
     "name": "stdout",
     "output_type": "stream",
     "text": [
      "X shape: (70000, 784)\n",
      "y shape: (70000, 10)\n",
      "------------------------------\n",
      "X range: [0.0, 1.0]\n",
      "y range: [0.0, 1.0]\n"
     ]
    }
   ],
   "source": [
    "print('X shape:',X.shape)\n",
    "print('y shape:',y.shape)\n",
    "print('-'*30)\n",
    "print('X range: [%s, %s]' % (X.min(), X.max()))\n",
    "print('y range: [%s, %s]' % (y.min(), y.max()))"
   ]
  },
  {
   "cell_type": "code",
   "execution_count": 14,
   "metadata": {},
   "outputs": [
    {
     "name": "stdout",
     "output_type": "stream",
     "text": [
      "(56000, 784)\n",
      "(56000, 10)\n"
     ]
    }
   ],
   "source": [
    "# split the datasets into train/valid/test data\n",
    "X_train, X_test, y_train, y_test = train_test_split(X, y, test_size=0.2, random_state=1)\n",
    "\n",
    "print(X_train.shape)\n",
    "print(y_train.shape)"
   ]
  },
  {
   "cell_type": "code",
   "execution_count": 15,
   "metadata": {},
   "outputs": [],
   "source": [
    "model = Sequential()\n",
    "model.add(Dense(\n",
    "    units=512,          # 出力空間の次元数\n",
    "    activation='relu',  # 活性化関数．softmax, elu, selu, tanh, sigmaido, relu, etc\n",
    "    input_shape=(784,) # 入力空間の\n",
    "))\n",
    "model.add(Dropout(0.2))\n",
    "model.add(Dense(512, activation='relu'))\n",
    "model.add(Dropout(0.2))\n",
    "model.add(Dense(n_classes, activation='softmax'))"
   ]
  },
  {
   "cell_type": "code",
   "execution_count": 16,
   "metadata": {},
   "outputs": [
    {
     "name": "stdout",
     "output_type": "stream",
     "text": [
      "_________________________________________________________________\n",
      "Layer (type)                 Output Shape              Param #   \n",
      "=================================================================\n",
      "dense_1 (Dense)              (None, 512)               401920    \n",
      "_________________________________________________________________\n",
      "dropout_1 (Dropout)          (None, 512)               0         \n",
      "_________________________________________________________________\n",
      "dense_2 (Dense)              (None, 512)               262656    \n",
      "_________________________________________________________________\n",
      "dropout_2 (Dropout)          (None, 512)               0         \n",
      "_________________________________________________________________\n",
      "dense_3 (Dense)              (None, 10)                5130      \n",
      "=================================================================\n",
      "Total params: 669,706\n",
      "Trainable params: 669,706\n",
      "Non-trainable params: 0\n",
      "_________________________________________________________________\n"
     ]
    }
   ],
   "source": [
    "model.summary()"
   ]
  },
  {
   "cell_type": "code",
   "execution_count": 21,
   "metadata": {},
   "outputs": [],
   "source": [
    "optimizer = Adam()\n",
    "model.compile(loss='categorical_crossentropy',\n",
    "              optimizer=optimizer,\n",
    "              metrics=['accuracy'])"
   ]
  },
  {
   "cell_type": "code",
   "execution_count": 23,
   "metadata": {},
   "outputs": [
    {
     "name": "stdout",
     "output_type": "stream",
     "text": [
      "Train on 44800 samples, validate on 11200 samples\n",
      "Epoch 1/20\n",
      "44800/44800 [==============================] - 6s 129us/step - loss: 0.2858 - acc: 0.9151 - val_loss: 0.1355 - val_acc: 0.9601\n",
      "Epoch 2/20\n",
      "44800/44800 [==============================] - 2s 46us/step - loss: 0.1177 - acc: 0.9633 - val_loss: 0.0981 - val_acc: 0.9695\n",
      "Epoch 3/20\n",
      "44800/44800 [==============================] - 2s 46us/step - loss: 0.0785 - acc: 0.9751 - val_loss: 0.0811 - val_acc: 0.9745\n",
      "Epoch 4/20\n",
      "44800/44800 [==============================] - 2s 47us/step - loss: 0.0600 - acc: 0.9807 - val_loss: 0.0831 - val_acc: 0.9754\n",
      "Epoch 5/20\n",
      "44800/44800 [==============================] - 2s 49us/step - loss: 0.0467 - acc: 0.9848 - val_loss: 0.0754 - val_acc: 0.9798\n",
      "Epoch 6/20\n",
      "44800/44800 [==============================] - 2s 48us/step - loss: 0.0384 - acc: 0.9872 - val_loss: 0.0749 - val_acc: 0.9783\n",
      "Epoch 7/20\n",
      "44800/44800 [==============================] - 2s 48us/step - loss: 0.0358 - acc: 0.9878 - val_loss: 0.0784 - val_acc: 0.9794\n",
      "Epoch 8/20\n",
      "44800/44800 [==============================] - 2s 48us/step - loss: 0.0333 - acc: 0.9890 - val_loss: 0.0839 - val_acc: 0.9794\n",
      "Epoch 9/20\n",
      "44800/44800 [==============================] - 2s 49us/step - loss: 0.0251 - acc: 0.9919 - val_loss: 0.1014 - val_acc: 0.9754\n",
      "Epoch 10/20\n",
      "44800/44800 [==============================] - 2s 51us/step - loss: 0.0250 - acc: 0.9913 - val_loss: 0.0918 - val_acc: 0.9807\n",
      "Epoch 11/20\n",
      "44800/44800 [==============================] - 2s 53us/step - loss: 0.0233 - acc: 0.9917 - val_loss: 0.0921 - val_acc: 0.9789\n",
      "Epoch 12/20\n",
      "44800/44800 [==============================] - 2s 54us/step - loss: 0.0203 - acc: 0.9929 - val_loss: 0.0848 - val_acc: 0.9791\n",
      "Epoch 13/20\n",
      "44800/44800 [==============================] - 2s 54us/step - loss: 0.0191 - acc: 0.9937 - val_loss: 0.0883 - val_acc: 0.9812\n",
      "Epoch 14/20\n",
      "44800/44800 [==============================] - 2s 54us/step - loss: 0.0198 - acc: 0.9937 - val_loss: 0.0897 - val_acc: 0.9807\n",
      "Epoch 15/20\n",
      "44800/44800 [==============================] - 2s 52us/step - loss: 0.0177 - acc: 0.9938 - val_loss: 0.0943 - val_acc: 0.9803\n",
      "Epoch 16/20\n",
      "44800/44800 [==============================] - 2s 53us/step - loss: 0.0176 - acc: 0.9939 - val_loss: 0.0989 - val_acc: 0.9799\n",
      "Epoch 17/20\n",
      "44800/44800 [==============================] - 2s 52us/step - loss: 0.0167 - acc: 0.9944 - val_loss: 0.0863 - val_acc: 0.9820\n",
      "Epoch 18/20\n",
      "44800/44800 [==============================] - 2s 52us/step - loss: 0.0136 - acc: 0.9954 - val_loss: 0.0920 - val_acc: 0.9821\n",
      "Epoch 19/20\n",
      "44800/44800 [==============================] - 2s 54us/step - loss: 0.0141 - acc: 0.9954 - val_loss: 0.0896 - val_acc: 0.9829\n",
      "Epoch 20/20\n",
      "44800/44800 [==============================] - 2s 54us/step - loss: 0.0186 - acc: 0.9938 - val_loss: 0.0944 - val_acc: 0.9811\n"
     ]
    }
   ],
   "source": [
    "batch_size = 128\n",
    "epochs = 20\n",
    "\n",
    "history = model.fit(X_train,\n",
    "                    y_train,\n",
    "                    batch_size=batch_size,\n",
    "                    epochs=epochs,\n",
    "                    verbose=1,\n",
    "                    validation_split=0.2)"
   ]
  },
  {
   "cell_type": "code",
   "execution_count": 24,
   "metadata": {},
   "outputs": [
    {
     "name": "stdout",
     "output_type": "stream",
     "text": [
      "14000/14000 [==============================] - 1s 65us/step\n"
     ]
    }
   ],
   "source": [
    "score = model.evaluate(X_test, y_test, verbose=1)"
   ]
  },
  {
   "cell_type": "code",
   "execution_count": 26,
   "metadata": {},
   "outputs": [
    {
     "name": "stdout",
     "output_type": "stream",
     "text": [
      "Test loss: 0.09438472342251979\n",
      "Test accuracy: 97.99285714285715\n"
     ]
    }
   ],
   "source": [
    "print('Test loss:', score[0])\n",
    "print('Test accuracy:', score[1] * 100)"
   ]
  },
  {
   "cell_type": "code",
   "execution_count": 27,
   "metadata": {},
   "outputs": [
    {
     "data": {
      "image/png": "[encoded data removed]",
      "text/plain": [
       "<matplotlib.figure.Figure at 0x7f72b5ec2a20>"
      ]
     },
     "metadata": {},
     "output_type": "display_data"
    },
    {
     "data": {
      "image/png": "[encoded data removed]",
      "text/plain": [
       "<matplotlib.figure.Figure at 0x7f72b5f754a8>"
      ]
     },
     "metadata": {},
     "output_type": "display_data"
    }
   ],
   "source": [
    "def plot_history(history):\n",
    "    # print(history.history.keys())\n",
    "\n",
    "    # 精度の履歴をプロット\n",
    "    plt.plot(history.history['acc'])\n",
    "    plt.plot(history.history['val_acc'])\n",
    "    plt.title('model accuracy')\n",
    "    plt.xlabel('epoch')\n",
    "    plt.ylabel('accuracy')\n",
    "    plt.legend(['acc', 'val_acc'], loc='lower right')\n",
    "    plt.show()\n",
    "\n",
    "    # 損失の履歴をプロット\n",
    "    plt.plot(history.history['loss'])\n",
    "    plt.plot(history.history['val_loss'])\n",
    "    plt.title('model loss')\n",
    "    plt.xlabel('epoch')\n",
    "    plt.ylabel('loss')\n",
    "    plt.legend(['loss', 'val_loss'], loc='lower right')\n",
    "    plt.show()\n",
    "\n",
    "# 学習履歴をプロット\n",
    "plot_history(history)"
   ]
  },
  {
   "cell_type": "code",
   "execution_count": null,
   "metadata": {},
   "outputs": [],
   "source": []
  }
 ],
 "metadata": {
  "kernelspec": {
   "display_name": "Python 3",
   "language": "python",
   "name": "python3"
  },
  "language_info": {
   "codemirror_mode": {
    "name": "ipython",
    "version": 3
   },
   "file_extension": ".py",
   "mimetype": "text/x-python",
   "name": "python",
   "nbconvert_exporter": "python",
   "pygments_lexer": "ipython3",
   "version": "3.6.3"
  }
 },
 "nbformat": 4,
 "nbformat_minor": 2
}
