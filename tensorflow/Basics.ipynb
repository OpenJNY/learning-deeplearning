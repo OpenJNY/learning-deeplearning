{
 "cells": [
  {
   "cell_type": "code",
   "execution_count": 1,
   "metadata": {},
   "outputs": [],
   "source": [
    "import tensorflow as tf\n",
    "import numpy as np\n",
    "import matplotlib.pyplot as plt\n",
    "\n",
    "%matplotlib inline"
   ]
  },
  {
   "cell_type": "markdown",
   "metadata": {},
   "source": [
    "## Example: linear regression"
   ]
  },
  {
   "cell_type": "code",
   "execution_count": 11,
   "metadata": {},
   "outputs": [
    {
     "data": {
      "image/png": "[encoded data removed]",
      "text/plain": [
       "<matplotlib.figure.Figure at 0x7f7a31fe86a0>"
      ]
     },
     "metadata": {},
     "output_type": "display_data"
    }
   ],
   "source": [
    "X_train = np.linspace(-1, 1, 100)\n",
    "y_train = 2 * X + np.random.randn(100) * 0.3\n",
    "\n",
    "xx = np.linspace(-1, 1)\n",
    "plt.plot(xx, xx * 2, 'red',label='truth')\n",
    "plt.scatter(X_train, y_train, label='observed data')\n",
    "\n",
    "plt.xlim(-1, 1)\n",
    "plt.ylim(-3, 3)\n",
    "plt.legend()\n",
    "plt.show()"
   ]
  },
  {
   "cell_type": "code",
   "execution_count": 21,
   "metadata": {},
   "outputs": [
    {
     "name": "stdout",
     "output_type": "stream",
     "text": [
      "    0: (w,b)=(    0.1409,    -0.0007)\n",
      "   10: (w,b)=(    1.1169,    -0.0033)\n",
      "   20: (w,b)=(    1.5995,    -0.0035)\n",
      "   30: (w,b)=(    1.8381,    -0.0036)\n",
      "   40: (w,b)=(    1.9561,    -0.0036)\n",
      "   50: (w,b)=(    2.0144,    -0.0036)\n",
      "   60: (w,b)=(    2.0433,    -0.0036)\n",
      "   70: (w,b)=(    2.0575,    -0.0036)\n",
      "   80: (w,b)=(    2.0646,    -0.0036)\n",
      "   90: (w,b)=(    2.0680,    -0.0036)\n",
      "  100: (w,b)=(    2.0698,    -0.0036)\n",
      "  110: (w,b)=(    2.0706,    -0.0036)\n",
      "  120: (w,b)=(    2.0710,    -0.0036)\n",
      "  130: (w,b)=(    2.0713,    -0.0036)\n",
      "  140: (w,b)=(    2.0714,    -0.0036)\n",
      "  150: (w,b)=(    2.0714,    -0.0036)\n",
      "  160: (w,b)=(    2.0714,    -0.0036)\n",
      "  170: (w,b)=(    2.0714,    -0.0036)\n",
      "  180: (w,b)=(    2.0715,    -0.0036)\n",
      "  190: (w,b)=(    2.0715,    -0.0036)\n"
     ]
    }
   ],
   "source": [
    "X = tf.placeholder('float')\n",
    "y = tf.placeholder('float')\n",
    "\n",
    "# model\n",
    "w = tf.Variable([0.])\n",
    "b = tf.Variable([0.])\n",
    "model = X * w + b\n",
    "\n",
    "# objective\n",
    "loss = tf.reduce_mean(tf.square(model - y))\n",
    "optimizer = tf.train.GradientDescentOptimizer(0.1)\n",
    "train_step = optimizer.minimize(loss)\n",
    "\n",
    "sess = tf.Session()\n",
    "sess.run(tf.global_variables_initializer())\n",
    "\n",
    "\n",
    "for i in range(200):\n",
    "    sess.run(train_step, feed_dict={X: X_train, y: y_train})\n",
    "    if i % 10 is 0:\n",
    "        print(\"%5d: (w,b)=(%10.4f, %10.4f)\" % (i, sess.run(w), sess.run(b)))"
   ]
  },
  {
   "cell_type": "code",
   "execution_count": null,
   "metadata": {},
   "outputs": [],
   "source": []
  }
 ],
 "metadata": {
  "kernelspec": {
   "display_name": "Python 3",
   "language": "python",
   "name": "python3"
  },
  "language_info": {
   "codemirror_mode": {
    "name": "ipython",
    "version": 3
   },
   "file_extension": ".py",
   "mimetype": "text/x-python",
   "name": "python",
   "nbconvert_exporter": "python",
   "pygments_lexer": "ipython3",
   "version": "3.6.3"
  }
 },
 "nbformat": 4,
 "nbformat_minor": 2
}
