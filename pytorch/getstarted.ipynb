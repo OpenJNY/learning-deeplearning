{
 "cells": [
  {
   "cell_type": "code",
   "execution_count": 3,
   "metadata": {},
   "outputs": [],
   "source": [
    "import torch"
   ]
  },
  {
   "cell_type": "code",
   "execution_count": 7,
   "metadata": {},
   "outputs": [
    {
     "name": "stdout",
     "output_type": "stream",
     "text": [
      "\n",
      "(0 ,.,.) = \n",
      "  0.5333  0.5047 -0.1744  1.5548\n",
      " -0.5652  0.4523  0.0467 -0.0923\n",
      "  0.8090  0.4090  0.0749 -0.6901\n",
      "\n",
      "(1 ,.,.) = \n",
      "  1.1314 -0.7850  1.1648  0.2597\n",
      " -0.4151 -0.7510  0.2683 -0.0829\n",
      " -1.6121  0.3747  0.1188 -0.0621\n",
      "[torch.FloatTensor of size 2x3x4]\n",
      "\n",
      "torch.Size([2, 3, 4])\n"
     ]
    }
   ],
   "source": [
    "# 2x3x4 のテンソル\n",
    "t = torch.randn(2, 3, 4)\n",
    "print(t)\n",
    "print(t.size())"
   ]
  },
  {
   "cell_type": "code",
   "execution_count": 8,
   "metadata": {},
   "outputs": [
    {
     "data": {
      "text/plain": [
       "\n",
       "(0 ,.,.) = \n",
       "  3  3  3  3\n",
       "  3  3  3  3\n",
       "  3  3  3  3\n",
       "\n",
       "(1 ,.,.) = \n",
       "  3  3  3  3\n",
       "  3  3  3  3\n",
       "  3  3  3  3\n",
       "[torch.FloatTensor of size 2x3x4]"
      ]
     },
     "execution_count": 8,
     "metadata": {},
     "output_type": "execute_result"
    }
   ],
   "source": [
    "t.fill_(3)"
   ]
  },
  {
   "cell_type": "code",
   "execution_count": 10,
   "metadata": {},
   "outputs": [
    {
     "name": "stdout",
     "output_type": "stream",
     "text": [
      "\n",
      "(0 ,.,.) = \n",
      "  7  7  7  7\n",
      "  7  7  7  7\n",
      "  7  7  7  7\n",
      "\n",
      "(1 ,.,.) = \n",
      "  7  7  7  7\n",
      "  7  7  7  7\n",
      "  7  7  7  7\n",
      "[torch.FloatTensor of size 2x3x4]\n",
      "\n"
     ]
    }
   ],
   "source": [
    "b = t.add(4)\n",
    "print(b)"
   ]
  },
  {
   "cell_type": "code",
   "execution_count": 20,
   "metadata": {},
   "outputs": [
    {
     "data": {
      "text/plain": [
       "\n",
       "-5.8346e-16  4.5674e-41\n",
       " 2.3443e+28  3.0613e-41\n",
       " 5.3689e-05  8.2294e-10\n",
       " 2.5985e+20  3.2685e+21\n",
       " 6.7262e-44  0.0000e+00\n",
       "[torch.FloatTensor of size 5x2]"
      ]
     },
     "execution_count": 20,
     "metadata": {},
     "output_type": "execute_result"
    }
   ],
   "source": [
    "z = torch.Tensor(5, 2)\n",
    "z"
   ]
  },
  {
   "cell_type": "code",
   "execution_count": 22,
   "metadata": {},
   "outputs": [
    {
     "data": {
      "text/plain": [
       "\n",
       " 1  2\n",
       " 1  2\n",
       " 1  2\n",
       " 1  2\n",
       " 1  2\n",
       "[torch.FloatTensor of size 5x2]"
      ]
     },
     "execution_count": 22,
     "metadata": {},
     "output_type": "execute_result"
    }
   ],
   "source": [
    "z[:, 0] = 1\n",
    "z[:, 1] = 2\n",
    "z"
   ]
  },
  {
   "cell_type": "code",
   "execution_count": 23,
   "metadata": {},
   "outputs": [
    {
     "data": {
      "text/plain": [
       "True"
      ]
     },
     "execution_count": 23,
     "metadata": {},
     "output_type": "execute_result"
    }
   ],
   "source": [
    "torch.cuda.is_available()"
   ]
  },
  {
   "cell_type": "code",
   "execution_count": 24,
   "metadata": {},
   "outputs": [
    {
     "name": "stdout",
     "output_type": "stream",
     "text": [
      "<class 'torch.cuda.LongTensor'>\n"
     ]
    }
   ],
   "source": [
    "if torch.cuda.is_available():\n",
    "    # creates a LongTensor and transfers it\n",
    "    # to GPU as torch.cuda.LongTensor\n",
    "    a = torch.LongTensor(10).fill_(3).cuda()\n",
    "    print(type(a))\n",
    "    b = a.cpu()"
   ]
  },
  {
   "cell_type": "code",
   "execution_count": 25,
   "metadata": {},
   "outputs": [
    {
     "data": {
      "text/plain": [
       "\n",
       " 3\n",
       " 3\n",
       " 3\n",
       " 3\n",
       " 3\n",
       " 3\n",
       " 3\n",
       " 3\n",
       " 3\n",
       " 3\n",
       "[torch.LongTensor of size 10]"
      ]
     },
     "execution_count": 25,
     "metadata": {},
     "output_type": "execute_result"
    }
   ],
   "source": [
    "b"
   ]
  },
  {
   "cell_type": "code",
   "execution_count": null,
   "metadata": {},
   "outputs": [],
   "source": []
  }
 ],
 "metadata": {
  "kernelspec": {
   "display_name": "Python 3",
   "language": "python",
   "name": "python3"
  },
  "language_info": {
   "codemirror_mode": {
    "name": "ipython",
    "version": 3
   },
   "file_extension": ".py",
   "mimetype": "text/x-python",
   "name": "python",
   "nbconvert_exporter": "python",
   "pygments_lexer": "ipython3",
   "version": "3.6.3"
  }
 },
 "nbformat": 4,
 "nbformat_minor": 2
}
